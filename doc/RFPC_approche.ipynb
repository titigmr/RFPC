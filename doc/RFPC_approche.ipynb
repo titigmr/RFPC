{
 "cells": [
  {
   "cell_type": "markdown",
   "metadata": {},
   "source": [
    "# Approche RFPC "
   ]
  },
  {
   "cell_type": "markdown",
   "metadata": {},
   "source": [
    "---"
   ]
  },
  {
   "cell_type": "markdown",
   "metadata": {},
   "source": [
    "**Requirement**\n",
    "> - statsmodel\n",
    "> - fanalysis \n",
    "> - pandas\n",
    "> - numpy\n",
    "\n",
    "Pour installer directement depuis le notebook : \n",
    "\n",
    "```\n",
    "%pip install fanalysis\n",
    "```\n"
   ]
  },
  {
   "cell_type": "markdown",
   "metadata": {},
   "source": [
    "**Importation**"
   ]
  },
  {
   "cell_type": "code",
   "execution_count": 1,
   "metadata": {},
   "outputs": [],
   "source": [
    "import pandas as pd\n",
    "import numpy as np\n",
    "from S_RFPC import RFPC, verification_bloc"
   ]
  },
  {
   "cell_type": "code",
   "execution_count": 2,
   "metadata": {},
   "outputs": [],
   "source": [
    "data = pd.read_table(\"mobil_init.txt\").iloc[:, 1:]"
   ]
  },
  {
   "cell_type": "code",
   "execution_count": 3,
   "metadata": {},
   "outputs": [
    {
     "data": {
      "text/html": [
       "<div>\n",
       "<style scoped>\n",
       "    .dataframe tbody tr th:only-of-type {\n",
       "        vertical-align: middle;\n",
       "    }\n",
       "\n",
       "    .dataframe tbody tr th {\n",
       "        vertical-align: top;\n",
       "    }\n",
       "\n",
       "    .dataframe thead th {\n",
       "        text-align: right;\n",
       "    }\n",
       "</style>\n",
       "<table border=\"1\" class=\"dataframe\">\n",
       "  <thead>\n",
       "    <tr style=\"text-align: right;\">\n",
       "      <th></th>\n",
       "      <th>CUEX1</th>\n",
       "      <th>CUEX2</th>\n",
       "      <th>CUEX3</th>\n",
       "      <th>PERQ1</th>\n",
       "      <th>PERQ2</th>\n",
       "      <th>PERQ3</th>\n",
       "      <th>PERQ4</th>\n",
       "      <th>PERQ5</th>\n",
       "      <th>PERQ6</th>\n",
       "      <th>PERQ7</th>\n",
       "      <th>PERV1</th>\n",
       "      <th>PERV2</th>\n",
       "      <th>CUSA1</th>\n",
       "      <th>CUSA2</th>\n",
       "      <th>CUSA3</th>\n",
       "      <th>CUSL1</th>\n",
       "      <th>CUSL2</th>\n",
       "      <th>CUSL3</th>\n",
       "    </tr>\n",
       "  </thead>\n",
       "  <tbody>\n",
       "    <tr>\n",
       "      <td>0</td>\n",
       "      <td>6</td>\n",
       "      <td>6</td>\n",
       "      <td>5</td>\n",
       "      <td>6</td>\n",
       "      <td>5</td>\n",
       "      <td>2</td>\n",
       "      <td>6</td>\n",
       "      <td>5</td>\n",
       "      <td>3</td>\n",
       "      <td>3</td>\n",
       "      <td>0</td>\n",
       "      <td>1</td>\n",
       "      <td>5</td>\n",
       "      <td>2</td>\n",
       "      <td>6</td>\n",
       "      <td>5</td>\n",
       "      <td>3</td>\n",
       "      <td>5</td>\n",
       "    </tr>\n",
       "    <tr>\n",
       "      <td>1</td>\n",
       "      <td>9</td>\n",
       "      <td>9</td>\n",
       "      <td>8</td>\n",
       "      <td>9</td>\n",
       "      <td>8</td>\n",
       "      <td>9</td>\n",
       "      <td>9</td>\n",
       "      <td>8</td>\n",
       "      <td>9</td>\n",
       "      <td>9</td>\n",
       "      <td>9</td>\n",
       "      <td>9</td>\n",
       "      <td>9</td>\n",
       "      <td>9</td>\n",
       "      <td>7</td>\n",
       "      <td>9</td>\n",
       "      <td>0</td>\n",
       "      <td>9</td>\n",
       "    </tr>\n",
       "    <tr>\n",
       "      <td>2</td>\n",
       "      <td>6</td>\n",
       "      <td>6</td>\n",
       "      <td>6</td>\n",
       "      <td>6</td>\n",
       "      <td>7</td>\n",
       "      <td>3</td>\n",
       "      <td>6</td>\n",
       "      <td>7</td>\n",
       "      <td>6</td>\n",
       "      <td>6</td>\n",
       "      <td>6</td>\n",
       "      <td>6</td>\n",
       "      <td>7</td>\n",
       "      <td>6</td>\n",
       "      <td>6</td>\n",
       "      <td>5</td>\n",
       "      <td>0</td>\n",
       "      <td>6</td>\n",
       "    </tr>\n",
       "    <tr>\n",
       "      <td>3</td>\n",
       "      <td>6</td>\n",
       "      <td>9</td>\n",
       "      <td>3</td>\n",
       "      <td>7</td>\n",
       "      <td>9</td>\n",
       "      <td>9</td>\n",
       "      <td>7</td>\n",
       "      <td>2</td>\n",
       "      <td>3</td>\n",
       "      <td>7</td>\n",
       "      <td>3</td>\n",
       "      <td>3</td>\n",
       "      <td>9</td>\n",
       "      <td>9</td>\n",
       "      <td>9</td>\n",
       "      <td>9</td>\n",
       "      <td>2</td>\n",
       "      <td>9</td>\n",
       "    </tr>\n",
       "    <tr>\n",
       "      <td>4</td>\n",
       "      <td>7</td>\n",
       "      <td>6</td>\n",
       "      <td>9</td>\n",
       "      <td>9</td>\n",
       "      <td>8</td>\n",
       "      <td>7</td>\n",
       "      <td>9</td>\n",
       "      <td>8</td>\n",
       "      <td>8</td>\n",
       "      <td>7</td>\n",
       "      <td>5</td>\n",
       "      <td>5</td>\n",
       "      <td>9</td>\n",
       "      <td>7</td>\n",
       "      <td>7</td>\n",
       "      <td>9</td>\n",
       "      <td>1</td>\n",
       "      <td>7</td>\n",
       "    </tr>\n",
       "  </tbody>\n",
       "</table>\n",
       "</div>"
      ],
      "text/plain": [
       "   CUEX1  CUEX2  CUEX3  PERQ1  PERQ2  PERQ3  PERQ4  PERQ5  PERQ6  PERQ7  \\\n",
       "0      6      6      5      6      5      2      6      5      3      3   \n",
       "1      9      9      8      9      8      9      9      8      9      9   \n",
       "2      6      6      6      6      7      3      6      7      6      6   \n",
       "3      6      9      3      7      9      9      7      2      3      7   \n",
       "4      7      6      9      9      8      7      9      8      8      7   \n",
       "\n",
       "   PERV1  PERV2  CUSA1  CUSA2  CUSA3  CUSL1  CUSL2  CUSL3  \n",
       "0      0      1      5      2      6      5      3      5  \n",
       "1      9      9      9      9      7      9      0      9  \n",
       "2      6      6      7      6      6      5      0      6  \n",
       "3      3      3      9      9      9      9      2      9  \n",
       "4      5      5      9      7      7      9      1      7  "
      ]
     },
     "execution_count": 3,
     "metadata": {},
     "output_type": "execute_result"
    }
   ],
   "source": [
    "data.head()"
   ]
  },
  {
   "cell_type": "markdown",
   "metadata": {},
   "source": [
    "**Définition des liens**\n",
    "\n",
    "Il faut pour chaque variable créer un vecteur contenant des 0 ou des 1 afin de définir quelles variables pointent sur quelles autres variables. La valeur 1 signifie que la variable est pointée par une autre. La position du 1 permet de savoir quelle est la variable en question.\n",
    "\n",
    "_Par exemple, **pqual** est pointée par la variable **expect**, car on trouve un 1 dans la première position du vecteur **pqual**._"
   ]
  },
  {
   "cell_type": "code",
   "execution_count": 4,
   "metadata": {},
   "outputs": [],
   "source": [
    "expect = [0, 0, 0, 0, 0]\n",
    "pqual = [1, 0, 0, 0, 0]\n",
    "pval = [1, 1, 0, 0, 0]\n",
    "satis = [1, 1, 1, 0, 0]\n",
    "loyal = [0, 0, 0, 1, 0]\n",
    "\n",
    "path = np.array([expect, pqual, pval, satis, loyal])\n",
    "vl = [\"expect\", \"pqual\", \"pval\", \"satis\", \"loyal\"]\n",
    "path = pd.DataFrame(path, columns=vl, index=vl)"
   ]
  },
  {
   "cell_type": "markdown",
   "metadata": {},
   "source": [
    "On affiche la matrice sous la forme d'un DataFrame (nécéssaire pour la fonction RFPC)"
   ]
  },
  {
   "cell_type": "code",
   "execution_count": 5,
   "metadata": {},
   "outputs": [
    {
     "data": {
      "text/html": [
       "<div>\n",
       "<style scoped>\n",
       "    .dataframe tbody tr th:only-of-type {\n",
       "        vertical-align: middle;\n",
       "    }\n",
       "\n",
       "    .dataframe tbody tr th {\n",
       "        vertical-align: top;\n",
       "    }\n",
       "\n",
       "    .dataframe thead th {\n",
       "        text-align: right;\n",
       "    }\n",
       "</style>\n",
       "<table border=\"1\" class=\"dataframe\">\n",
       "  <thead>\n",
       "    <tr style=\"text-align: right;\">\n",
       "      <th></th>\n",
       "      <th>expect</th>\n",
       "      <th>pqual</th>\n",
       "      <th>pval</th>\n",
       "      <th>satis</th>\n",
       "      <th>loyal</th>\n",
       "    </tr>\n",
       "  </thead>\n",
       "  <tbody>\n",
       "    <tr>\n",
       "      <td>expect</td>\n",
       "      <td>0</td>\n",
       "      <td>0</td>\n",
       "      <td>0</td>\n",
       "      <td>0</td>\n",
       "      <td>0</td>\n",
       "    </tr>\n",
       "    <tr>\n",
       "      <td>pqual</td>\n",
       "      <td>1</td>\n",
       "      <td>0</td>\n",
       "      <td>0</td>\n",
       "      <td>0</td>\n",
       "      <td>0</td>\n",
       "    </tr>\n",
       "    <tr>\n",
       "      <td>pval</td>\n",
       "      <td>1</td>\n",
       "      <td>1</td>\n",
       "      <td>0</td>\n",
       "      <td>0</td>\n",
       "      <td>0</td>\n",
       "    </tr>\n",
       "    <tr>\n",
       "      <td>satis</td>\n",
       "      <td>1</td>\n",
       "      <td>1</td>\n",
       "      <td>1</td>\n",
       "      <td>0</td>\n",
       "      <td>0</td>\n",
       "    </tr>\n",
       "    <tr>\n",
       "      <td>loyal</td>\n",
       "      <td>0</td>\n",
       "      <td>0</td>\n",
       "      <td>0</td>\n",
       "      <td>1</td>\n",
       "      <td>0</td>\n",
       "    </tr>\n",
       "  </tbody>\n",
       "</table>\n",
       "</div>"
      ],
      "text/plain": [
       "        expect  pqual  pval  satis  loyal\n",
       "expect       0      0     0      0      0\n",
       "pqual        1      0     0      0      0\n",
       "pval         1      1     0      0      0\n",
       "satis        1      1     1      0      0\n",
       "loyal        0      0     0      1      0"
      ]
     },
     "execution_count": 5,
     "metadata": {},
     "output_type": "execute_result"
    }
   ],
   "source": [
    "path"
   ]
  },
  {
   "cell_type": "markdown",
   "metadata": {},
   "source": [
    "**Définition des blocs**"
   ]
  },
  {
   "cell_type": "markdown",
   "metadata": {},
   "source": [
    "La seconde étape consiste à l'attribution de chaque variable manifeste à son bloc. Pour cela, les données doivent être de la forme d'un DataFrame.\n",
    "\n",
    "On crée donc une liste de listes avec les indices de début et de fin des variable de chaque bloc. La fonction _vérification\\_bloc_ permet de vérifier si les blocs sont exacts."
   ]
  },
  {
   "cell_type": "code",
   "execution_count": 6,
   "metadata": {},
   "outputs": [],
   "source": [
    "block = [[0, 3], [3, 10], [10, 12], [12, 15], [15, 18]]"
   ]
  },
  {
   "cell_type": "code",
   "execution_count": 7,
   "metadata": {},
   "outputs": [
    {
     "name": "stdout",
     "output_type": "stream",
     "text": [
      "Bloc : expect \n",
      "Variables manifestes : ['CUEX1', 'CUEX2', 'CUEX3'] \n",
      "\n",
      "Bloc : pqual \n",
      "Variables manifestes : ['PERQ1', 'PERQ2', 'PERQ3', 'PERQ4', 'PERQ5', 'PERQ6', 'PERQ7'] \n",
      "\n",
      "Bloc : pval \n",
      "Variables manifestes : ['PERV1', 'PERV2'] \n",
      "\n",
      "Bloc : satis \n",
      "Variables manifestes : ['CUSA1', 'CUSA2', 'CUSA3'] \n",
      "\n",
      "Bloc : loyal \n",
      "Variables manifestes : ['CUSL1', 'CUSL2', 'CUSL3'] \n",
      "\n"
     ]
    }
   ],
   "source": [
    "verification_bloc(block, vl, data)"
   ]
  },
  {
   "cell_type": "markdown",
   "metadata": {},
   "source": [
    "__Estimation du modèle__"
   ]
  },
  {
   "cell_type": "markdown",
   "metadata": {},
   "source": [
    "On renseigne les informations précédente dans la fonction _RFPC_ : \n",
    "- **les données** – (Dataframe)\n",
    "- **blocs** – (liste de liste des indices)\n",
    "- **nom des variables sous forme de liste** – (liste de _str_ des noms des variables) \n",
    "- **matrice des liens** – (matrice des liens sous forme de Dataframe)."
   ]
  },
  {
   "cell_type": "code",
   "execution_count": 10,
   "metadata": {
    "scrolled": false
   },
   "outputs": [
    {
     "name": "stdout",
     "output_type": "stream",
     "text": [
      "['CUEX1', 'CUEX2', 'CUEX3']\n",
      "['PERQ1', 'PERQ2', 'PERQ3', 'PERQ4', 'PERQ5', 'PERQ6', 'PERQ7']\n",
      "['PERV1', 'PERV2']\n",
      "['CUSA1', 'CUSA2', 'CUSA3']\n",
      "['CUSL1', 'CUSL2', 'CUSL3']\n"
     ]
    }
   ],
   "source": [
    "model = RFPC(data, block, vl, path, verbose=True)"
   ]
  },
  {
   "cell_type": "markdown",
   "metadata": {},
   "source": [
    "On peut récupérer les différentes sorties : modèle interne, modèle externe, récapitulatif du modèle externe et le GOF"
   ]
  },
  {
   "cell_type": "code",
   "execution_count": 11,
   "metadata": {
    "scrolled": false
   },
   "outputs": [
    {
     "data": {
      "text/html": [
       "<div>\n",
       "<style scoped>\n",
       "    .dataframe tbody tr th:only-of-type {\n",
       "        vertical-align: middle;\n",
       "    }\n",
       "\n",
       "    .dataframe tbody tr th {\n",
       "        vertical-align: top;\n",
       "    }\n",
       "\n",
       "    .dataframe thead th {\n",
       "        text-align: right;\n",
       "    }\n",
       "</style>\n",
       "<table border=\"1\" class=\"dataframe\">\n",
       "  <thead>\n",
       "    <tr style=\"text-align: right;\">\n",
       "      <th></th>\n",
       "      <th>R2</th>\n",
       "      <th>AVE</th>\n",
       "      <th>Mean_redundancy</th>\n",
       "    </tr>\n",
       "  </thead>\n",
       "  <tbody>\n",
       "    <tr>\n",
       "      <td>expect</td>\n",
       "      <td>0.000</td>\n",
       "      <td>0.475</td>\n",
       "      <td>0.000</td>\n",
       "    </tr>\n",
       "    <tr>\n",
       "      <td>pqual</td>\n",
       "      <td>0.284</td>\n",
       "      <td>0.576</td>\n",
       "      <td>0.163</td>\n",
       "    </tr>\n",
       "    <tr>\n",
       "      <td>pval</td>\n",
       "      <td>0.334</td>\n",
       "      <td>0.846</td>\n",
       "      <td>0.282</td>\n",
       "    </tr>\n",
       "    <tr>\n",
       "      <td>satis</td>\n",
       "      <td>0.653</td>\n",
       "      <td>0.688</td>\n",
       "      <td>0.449</td>\n",
       "    </tr>\n",
       "    <tr>\n",
       "      <td>loyal</td>\n",
       "      <td>0.403</td>\n",
       "      <td>0.523</td>\n",
       "      <td>0.211</td>\n",
       "    </tr>\n",
       "  </tbody>\n",
       "</table>\n",
       "</div>"
      ],
      "text/plain": [
       "           R2    AVE  Mean_redundancy\n",
       "expect  0.000  0.475            0.000\n",
       "pqual   0.284  0.576            0.163\n",
       "pval    0.334  0.846            0.282\n",
       "satis   0.653  0.688            0.449\n",
       "loyal   0.403  0.523            0.211"
      ]
     },
     "execution_count": 11,
     "metadata": {},
     "output_type": "execute_result"
    }
   ],
   "source": [
    "model.final_inner"
   ]
  },
  {
   "cell_type": "code",
   "execution_count": 12,
   "metadata": {},
   "outputs": [
    {
     "data": {
      "text/html": [
       "<div>\n",
       "<style scoped>\n",
       "    .dataframe tbody tr th:only-of-type {\n",
       "        vertical-align: middle;\n",
       "    }\n",
       "\n",
       "    .dataframe tbody tr th {\n",
       "        vertical-align: top;\n",
       "    }\n",
       "\n",
       "    .dataframe thead th {\n",
       "        text-align: right;\n",
       "    }\n",
       "</style>\n",
       "<table border=\"1\" class=\"dataframe\">\n",
       "  <thead>\n",
       "    <tr style=\"text-align: right;\">\n",
       "      <th></th>\n",
       "      <th>Bloc</th>\n",
       "      <th>weight</th>\n",
       "      <th>loading</th>\n",
       "      <th>communality</th>\n",
       "      <th>redundancy</th>\n",
       "    </tr>\n",
       "  </thead>\n",
       "  <tbody>\n",
       "    <tr>\n",
       "      <td>CUEX1</td>\n",
       "      <td>expect</td>\n",
       "      <td>0.560205</td>\n",
       "      <td>0.798378</td>\n",
       "      <td>0.637407</td>\n",
       "      <td>0.000000</td>\n",
       "    </tr>\n",
       "    <tr>\n",
       "      <td>CUEX2</td>\n",
       "      <td>expect</td>\n",
       "      <td>0.504299</td>\n",
       "      <td>0.718702</td>\n",
       "      <td>0.516533</td>\n",
       "      <td>0.000000</td>\n",
       "    </tr>\n",
       "    <tr>\n",
       "      <td>CUEX3</td>\n",
       "      <td>expect</td>\n",
       "      <td>0.365421</td>\n",
       "      <td>0.520781</td>\n",
       "      <td>0.271212</td>\n",
       "      <td>0.000000</td>\n",
       "    </tr>\n",
       "    <tr>\n",
       "      <td>PERQ1</td>\n",
       "      <td>pqual</td>\n",
       "      <td>0.198873</td>\n",
       "      <td>0.802172</td>\n",
       "      <td>0.643479</td>\n",
       "      <td>0.182574</td>\n",
       "    </tr>\n",
       "    <tr>\n",
       "      <td>PERQ2</td>\n",
       "      <td>pqual</td>\n",
       "      <td>0.158860</td>\n",
       "      <td>0.640776</td>\n",
       "      <td>0.410594</td>\n",
       "      <td>0.116498</td>\n",
       "    </tr>\n",
       "    <tr>\n",
       "      <td>PERQ3</td>\n",
       "      <td>pqual</td>\n",
       "      <td>0.191658</td>\n",
       "      <td>0.773069</td>\n",
       "      <td>0.597635</td>\n",
       "      <td>0.169567</td>\n",
       "    </tr>\n",
       "    <tr>\n",
       "      <td>PERQ4</td>\n",
       "      <td>pqual</td>\n",
       "      <td>0.194011</td>\n",
       "      <td>0.782559</td>\n",
       "      <td>0.612398</td>\n",
       "      <td>0.173756</td>\n",
       "    </tr>\n",
       "    <tr>\n",
       "      <td>PERQ5</td>\n",
       "      <td>pqual</td>\n",
       "      <td>0.186375</td>\n",
       "      <td>0.751759</td>\n",
       "      <td>0.565142</td>\n",
       "      <td>0.160348</td>\n",
       "    </tr>\n",
       "    <tr>\n",
       "      <td>PERQ6</td>\n",
       "      <td>pqual</td>\n",
       "      <td>0.197203</td>\n",
       "      <td>0.795438</td>\n",
       "      <td>0.632721</td>\n",
       "      <td>0.179522</td>\n",
       "    </tr>\n",
       "    <tr>\n",
       "      <td>PERQ7</td>\n",
       "      <td>pqual</td>\n",
       "      <td>0.187440</td>\n",
       "      <td>0.756055</td>\n",
       "      <td>0.571619</td>\n",
       "      <td>0.162185</td>\n",
       "    </tr>\n",
       "    <tr>\n",
       "      <td>PERV1</td>\n",
       "      <td>pval</td>\n",
       "      <td>0.543726</td>\n",
       "      <td>0.919580</td>\n",
       "      <td>0.845628</td>\n",
       "      <td>0.282182</td>\n",
       "    </tr>\n",
       "    <tr>\n",
       "      <td>PERV2</td>\n",
       "      <td>pval</td>\n",
       "      <td>0.543726</td>\n",
       "      <td>0.919580</td>\n",
       "      <td>0.845628</td>\n",
       "      <td>0.282182</td>\n",
       "    </tr>\n",
       "    <tr>\n",
       "      <td>CUSA1</td>\n",
       "      <td>satis</td>\n",
       "      <td>0.388158</td>\n",
       "      <td>0.801101</td>\n",
       "      <td>0.641763</td>\n",
       "      <td>0.419227</td>\n",
       "    </tr>\n",
       "    <tr>\n",
       "      <td>CUSA2</td>\n",
       "      <td>satis</td>\n",
       "      <td>0.413414</td>\n",
       "      <td>0.853225</td>\n",
       "      <td>0.727992</td>\n",
       "      <td>0.475556</td>\n",
       "    </tr>\n",
       "    <tr>\n",
       "      <td>CUSA3</td>\n",
       "      <td>satis</td>\n",
       "      <td>0.403675</td>\n",
       "      <td>0.833124</td>\n",
       "      <td>0.694095</td>\n",
       "      <td>0.453413</td>\n",
       "    </tr>\n",
       "    <tr>\n",
       "      <td>CUSL1</td>\n",
       "      <td>loyal</td>\n",
       "      <td>0.550070</td>\n",
       "      <td>0.862916</td>\n",
       "      <td>0.744624</td>\n",
       "      <td>0.299939</td>\n",
       "    </tr>\n",
       "    <tr>\n",
       "      <td>CUSL2</td>\n",
       "      <td>loyal</td>\n",
       "      <td>0.156031</td>\n",
       "      <td>0.244772</td>\n",
       "      <td>0.059913</td>\n",
       "      <td>0.024134</td>\n",
       "    </tr>\n",
       "    <tr>\n",
       "      <td>CUSL3</td>\n",
       "      <td>loyal</td>\n",
       "      <td>0.557254</td>\n",
       "      <td>0.874186</td>\n",
       "      <td>0.764201</td>\n",
       "      <td>0.307825</td>\n",
       "    </tr>\n",
       "  </tbody>\n",
       "</table>\n",
       "</div>"
      ],
      "text/plain": [
       "         Bloc    weight   loading  communality  redundancy\n",
       "CUEX1  expect  0.560205  0.798378     0.637407    0.000000\n",
       "CUEX2  expect  0.504299  0.718702     0.516533    0.000000\n",
       "CUEX3  expect  0.365421  0.520781     0.271212    0.000000\n",
       "PERQ1   pqual  0.198873  0.802172     0.643479    0.182574\n",
       "PERQ2   pqual  0.158860  0.640776     0.410594    0.116498\n",
       "PERQ3   pqual  0.191658  0.773069     0.597635    0.169567\n",
       "PERQ4   pqual  0.194011  0.782559     0.612398    0.173756\n",
       "PERQ5   pqual  0.186375  0.751759     0.565142    0.160348\n",
       "PERQ6   pqual  0.197203  0.795438     0.632721    0.179522\n",
       "PERQ7   pqual  0.187440  0.756055     0.571619    0.162185\n",
       "PERV1    pval  0.543726  0.919580     0.845628    0.282182\n",
       "PERV2    pval  0.543726  0.919580     0.845628    0.282182\n",
       "CUSA1   satis  0.388158  0.801101     0.641763    0.419227\n",
       "CUSA2   satis  0.413414  0.853225     0.727992    0.475556\n",
       "CUSA3   satis  0.403675  0.833124     0.694095    0.453413\n",
       "CUSL1   loyal  0.550070  0.862916     0.744624    0.299939\n",
       "CUSL2   loyal  0.156031  0.244772     0.059913    0.024134\n",
       "CUSL3   loyal  0.557254  0.874186     0.764201    0.307825"
      ]
     },
     "execution_count": 12,
     "metadata": {},
     "output_type": "execute_result"
    }
   ],
   "source": [
    "model.final_outer"
   ]
  },
  {
   "cell_type": "code",
   "execution_count": 13,
   "metadata": {},
   "outputs": [
    {
     "data": {
      "text/plain": [
       "0.5100388220518121"
      ]
     },
     "execution_count": 13,
     "metadata": {},
     "output_type": "execute_result"
    }
   ],
   "source": [
    "model.GOF"
   ]
  },
  {
   "cell_type": "code",
   "execution_count": 14,
   "metadata": {},
   "outputs": [
    {
     "name": "stdout",
     "output_type": "stream",
     "text": [
      "            coef        se      tval          pval\n",
      "expect  0.896124  0.090231  9.931481  8.506244e-20\n",
      "-------------------------------------------------------\n",
      "            coef        se      tval          pval\n",
      "expect  0.078761  0.066719  1.180499  2.389329e-01\n",
      "pqual   0.347012  0.039658  8.750106  3.335519e-16\n",
      "-------------------------------------------------------\n",
      "            coef        se       tval          pval\n",
      "expect  0.124906  0.053426   2.337936  2.018955e-02\n",
      "pqual   0.421849  0.036228  11.644296  2.869509e-25\n",
      "pval    0.257395  0.050706   5.076189  7.582194e-07\n",
      "-------------------------------------------------------\n",
      "          coef        se       tval          pval\n",
      "satis  0.55333  0.042697  12.959567  1.058381e-29\n",
      "-------------------------------------------------------\n"
     ]
    }
   ],
   "source": [
    "for i in model.list_resul_inner:\n",
    "    print(i)\n",
    "    print('-'*55)"
   ]
  }
 ],
 "metadata": {
  "kernelspec": {
   "display_name": "Python 3",
   "language": "python",
   "name": "python3"
  },
  "language_info": {
   "codemirror_mode": {
    "name": "ipython",
    "version": 3
   },
   "file_extension": ".py",
   "mimetype": "text/x-python",
   "name": "python",
   "nbconvert_exporter": "python",
   "pygments_lexer": "ipython3",
   "version": "3.7.4"
  },
  "toc": {
   "base_numbering": 1,
   "nav_menu": {},
   "number_sections": true,
   "sideBar": true,
   "skip_h1_title": false,
   "title_cell": "Table of Contents",
   "title_sidebar": "Contents",
   "toc_cell": false,
   "toc_position": {},
   "toc_section_display": true,
   "toc_window_display": false
  }
 },
 "nbformat": 4,
 "nbformat_minor": 2
}
